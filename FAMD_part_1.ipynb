{
 "cells": [
  {
   "cell_type": "markdown",
   "metadata": {
    "kernel": "SoS"
   },
   "source": [
    "# 1. Introduction"
   ]
  },
  {
   "cell_type": "markdown",
   "metadata": {
    "kernel": "SoS"
   },
   "source": [
    "Factor analysis for mixed data (FAMD) is a principal component method for exploring data with both continuous and categorical variables. It is roughly a combination of principal component analysis (PCA) for continuous variables and multiple correspondence analysis (MCA) for categorical variables. To learn more about FAMD, see an excellent [tutorial](http://www.sthda.com/english/articles/31-principal-component-methods-in-r-practical-guide/115-famd-factor-analysis-of-mixed-data-in-r-essentials/) using the `FactoMineR` package.\n",
    "\n",
    "In this series, I will use three commonly used packages in R ([FactoMineR](https://cran.r-project.org/web/packages/FactoMineR/FactoMineR.pdf) and [PCAmixdata](https://cran.r-project.org/web/packages/PCAmixdata/PCAmixdata.pdf)) and Python ([prince](https://github.com/MaxHalford/prince))to performance FAMD on the Telco customer churn dataset, to gain insights into the relationships between various aspects of customer behaviour.\n",
    "\n",
    "Note, I used the [SoS kernel](https://vatlab.github.io/sos-docs/) for this analysis, which allows both Python and R analysis in the same notebook without using the Jupyter R magic commands. I found SoS handled certain aspects of R performance better than the R magics, so I encourage those who are interested to check it out. :)"
   ]
  },
  {
   "cell_type": "markdown",
   "metadata": {
    "kernel": "SoS"
   },
   "source": [
    "# 2. Import and pre-process data"
   ]
  },
  {
   "cell_type": "markdown",
   "metadata": {},
   "source": [
    "Here, I will import the cleaned Telco dataset in both R and Python. \n",
    "\n",
    "As `Calculated_TotalCharges` is highly correlated with `tenure` and `MonthlyCharges`, it will be excluded from analysis.\n",
    "\n",
    "Also, all three packages automatically normalize the numerical variables, so I will not do so before hand."
   ]
  },
  {
   "cell_type": "code",
   "execution_count": 2,
   "metadata": {
    "kernel": "R"
   },
   "outputs": [],
   "source": [
    "df <- read.csv('https://github.com/nd823/data-cleaning/raw/master/telco_cleaned_Jun13.csv')\n",
    "\n",
    "df <- within(df, rm('Calculated_TotalCharges'))"
   ]
  },
  {
   "cell_type": "code",
   "execution_count": 3,
   "metadata": {
    "kernel": "Python3"
   },
   "outputs": [],
   "source": [
    "import pandas as pd\n",
    "\n",
    "df = pd.read_csv('https://github.com/nd823/data-cleaning/raw/master/telco_cleaned_Jun13.csv')\n",
    "\n",
    "df.drop('Calculated_TotalCharges', axis=1, inplace=True)"
   ]
  },
  {
   "cell_type": "markdown",
   "metadata": {
    "kernel": "SoS"
   },
   "source": [
    "# 3. Factor analysis of mixed data"
   ]
  },
  {
   "cell_type": "markdown",
   "metadata": {
    "kernel": "SoS"
   },
   "source": [
    "## 3.1 `FactoMineR`"
   ]
  },
  {
   "cell_type": "code",
   "execution_count": 9,
   "metadata": {
    "kernel": "R"
   },
   "outputs": [
    {
     "name": "stderr",
     "output_type": "stream",
     "text": [
      "Loading required package: ggplot2\n",
      "Registered S3 methods overwritten by 'ggplot2':\n",
      "  method         from \n",
      "  [.quosures     rlang\n",
      "  c.quosures     rlang\n",
      "  print.quosures rlang\n",
      "Welcome! Related Books: `Practical Guide To Cluster Analysis in R` at https://goo.gl/13EFCZ\n"
     ]
    },
    {
     "data": {
      "text/html": [
       "<table>\n",
       "<caption>A matrix: 22 × 3 of type dbl</caption>\n",
       "<thead>\n",
       "\t<tr><th></th><th scope=col>eigenvalue</th><th scope=col>variance.percent</th><th scope=col>cumulative.variance.percent</th></tr>\n",
       "</thead>\n",
       "<tbody>\n",
       "\t<tr><th scope=row>Dim.1</th><td>4.5098513842</td><td>20.49932447</td><td> 20.49932</td></tr>\n",
       "\t<tr><th scope=row>Dim.2</th><td>2.8024012638</td><td>12.73818756</td><td> 33.23751</td></tr>\n",
       "\t<tr><th scope=row>Dim.3</th><td>1.8247464408</td><td> 8.29430200</td><td> 41.53181</td></tr>\n",
       "\t<tr><th scope=row>Dim.4</th><td>1.1490819680</td><td> 5.22309985</td><td> 46.75491</td></tr>\n",
       "\t<tr><th scope=row>Dim.5</th><td>1.0495900326</td><td> 4.77086378</td><td> 51.52578</td></tr>\n",
       "\t<tr><th scope=row>Dim.6</th><td>1.0144020899</td><td> 4.61091859</td><td> 56.13670</td></tr>\n",
       "\t<tr><th scope=row>Dim.7</th><td>0.9993340111</td><td> 4.54242732</td><td> 60.67912</td></tr>\n",
       "\t<tr><th scope=row>Dim.8</th><td>0.9842737776</td><td> 4.47397172</td><td> 65.15310</td></tr>\n",
       "\t<tr><th scope=row>Dim.9</th><td>0.9039827483</td><td> 4.10901249</td><td> 69.26211</td></tr>\n",
       "\t<tr><th scope=row>Dim.10</th><td>0.8465510646</td><td> 3.84795938</td><td> 73.11007</td></tr>\n",
       "\t<tr><th scope=row>Dim.11</th><td>0.7634513562</td><td> 3.47023344</td><td> 76.58030</td></tr>\n",
       "\t<tr><th scope=row>Dim.12</th><td>0.7069736613</td><td> 3.21351664</td><td> 79.79382</td></tr>\n",
       "\t<tr><th scope=row>Dim.13</th><td>0.6743784465</td><td> 3.06535658</td><td> 82.85917</td></tr>\n",
       "\t<tr><th scope=row>Dim.14</th><td>0.6215863186</td><td> 2.82539236</td><td> 85.68457</td></tr>\n",
       "\t<tr><th scope=row>Dim.15</th><td>0.6096204549</td><td> 2.77100207</td><td> 88.45557</td></tr>\n",
       "\t<tr><th scope=row>Dim.16</th><td>0.5972640853</td><td> 2.71483675</td><td> 91.17041</td></tr>\n",
       "\t<tr><th scope=row>Dim.17</th><td>0.4783653418</td><td> 2.17438792</td><td> 93.34479</td></tr>\n",
       "\t<tr><th scope=row>Dim.18</th><td>0.4652041236</td><td> 2.11456420</td><td> 95.45936</td></tr>\n",
       "\t<tr><th scope=row>Dim.19</th><td>0.4628728877</td><td> 2.10396767</td><td> 97.56332</td></tr>\n",
       "\t<tr><th scope=row>Dim.20</th><td>0.3061815235</td><td> 1.39173420</td><td> 98.95506</td></tr>\n",
       "\t<tr><th scope=row>Dim.21</th><td>0.2291355725</td><td> 1.04152533</td><td> 99.99658</td></tr>\n",
       "\t<tr><th scope=row>Dim.22</th><td>0.0007514474</td><td> 0.00341567</td><td>100.00000</td></tr>\n",
       "</tbody>\n",
       "</table>\n"
      ],
      "text/latex": [
       "A matrix: 22 × 3 of type dbl\n",
       "\\begin{tabular}{r|lll}\n",
       "  & eigenvalue & variance.percent & cumulative.variance.percent\\\\\n",
       "\\hline\n",
       "\tDim.1 & 4.5098513842 & 20.49932447 &  20.49932\\\\\n",
       "\tDim.2 & 2.8024012638 & 12.73818756 &  33.23751\\\\\n",
       "\tDim.3 & 1.8247464408 &  8.29430200 &  41.53181\\\\\n",
       "\tDim.4 & 1.1490819680 &  5.22309985 &  46.75491\\\\\n",
       "\tDim.5 & 1.0495900326 &  4.77086378 &  51.52578\\\\\n",
       "\tDim.6 & 1.0144020899 &  4.61091859 &  56.13670\\\\\n",
       "\tDim.7 & 0.9993340111 &  4.54242732 &  60.67912\\\\\n",
       "\tDim.8 & 0.9842737776 &  4.47397172 &  65.15310\\\\\n",
       "\tDim.9 & 0.9039827483 &  4.10901249 &  69.26211\\\\\n",
       "\tDim.10 & 0.8465510646 &  3.84795938 &  73.11007\\\\\n",
       "\tDim.11 & 0.7634513562 &  3.47023344 &  76.58030\\\\\n",
       "\tDim.12 & 0.7069736613 &  3.21351664 &  79.79382\\\\\n",
       "\tDim.13 & 0.6743784465 &  3.06535658 &  82.85917\\\\\n",
       "\tDim.14 & 0.6215863186 &  2.82539236 &  85.68457\\\\\n",
       "\tDim.15 & 0.6096204549 &  2.77100207 &  88.45557\\\\\n",
       "\tDim.16 & 0.5972640853 &  2.71483675 &  91.17041\\\\\n",
       "\tDim.17 & 0.4783653418 &  2.17438792 &  93.34479\\\\\n",
       "\tDim.18 & 0.4652041236 &  2.11456420 &  95.45936\\\\\n",
       "\tDim.19 & 0.4628728877 &  2.10396767 &  97.56332\\\\\n",
       "\tDim.20 & 0.3061815235 &  1.39173420 &  98.95506\\\\\n",
       "\tDim.21 & 0.2291355725 &  1.04152533 &  99.99658\\\\\n",
       "\tDim.22 & 0.0007514474 &  0.00341567 & 100.00000\\\\\n",
       "\\end{tabular}\n"
      ],
      "text/markdown": [
       "\n",
       "A matrix: 22 × 3 of type dbl\n",
       "\n",
       "| <!--/--> | eigenvalue | variance.percent | cumulative.variance.percent |\n",
       "|---|---|---|---|\n",
       "| Dim.1 | 4.5098513842 | 20.49932447 |  20.49932 |\n",
       "| Dim.2 | 2.8024012638 | 12.73818756 |  33.23751 |\n",
       "| Dim.3 | 1.8247464408 |  8.29430200 |  41.53181 |\n",
       "| Dim.4 | 1.1490819680 |  5.22309985 |  46.75491 |\n",
       "| Dim.5 | 1.0495900326 |  4.77086378 |  51.52578 |\n",
       "| Dim.6 | 1.0144020899 |  4.61091859 |  56.13670 |\n",
       "| Dim.7 | 0.9993340111 |  4.54242732 |  60.67912 |\n",
       "| Dim.8 | 0.9842737776 |  4.47397172 |  65.15310 |\n",
       "| Dim.9 | 0.9039827483 |  4.10901249 |  69.26211 |\n",
       "| Dim.10 | 0.8465510646 |  3.84795938 |  73.11007 |\n",
       "| Dim.11 | 0.7634513562 |  3.47023344 |  76.58030 |\n",
       "| Dim.12 | 0.7069736613 |  3.21351664 |  79.79382 |\n",
       "| Dim.13 | 0.6743784465 |  3.06535658 |  82.85917 |\n",
       "| Dim.14 | 0.6215863186 |  2.82539236 |  85.68457 |\n",
       "| Dim.15 | 0.6096204549 |  2.77100207 |  88.45557 |\n",
       "| Dim.16 | 0.5972640853 |  2.71483675 |  91.17041 |\n",
       "| Dim.17 | 0.4783653418 |  2.17438792 |  93.34479 |\n",
       "| Dim.18 | 0.4652041236 |  2.11456420 |  95.45936 |\n",
       "| Dim.19 | 0.4628728877 |  2.10396767 |  97.56332 |\n",
       "| Dim.20 | 0.3061815235 |  1.39173420 |  98.95506 |\n",
       "| Dim.21 | 0.2291355725 |  1.04152533 |  99.99658 |\n",
       "| Dim.22 | 0.0007514474 |  0.00341567 | 100.00000 |\n",
       "\n"
      ],
      "text/plain": [
       "       eigenvalue   variance.percent cumulative.variance.percent\n",
       "Dim.1  4.5098513842 20.49932447       20.49932                  \n",
       "Dim.2  2.8024012638 12.73818756       33.23751                  \n",
       "Dim.3  1.8247464408  8.29430200       41.53181                  \n",
       "Dim.4  1.1490819680  5.22309985       46.75491                  \n",
       "Dim.5  1.0495900326  4.77086378       51.52578                  \n",
       "Dim.6  1.0144020899  4.61091859       56.13670                  \n",
       "Dim.7  0.9993340111  4.54242732       60.67912                  \n",
       "Dim.8  0.9842737776  4.47397172       65.15310                  \n",
       "Dim.9  0.9039827483  4.10901249       69.26211                  \n",
       "Dim.10 0.8465510646  3.84795938       73.11007                  \n",
       "Dim.11 0.7634513562  3.47023344       76.58030                  \n",
       "Dim.12 0.7069736613  3.21351664       79.79382                  \n",
       "Dim.13 0.6743784465  3.06535658       82.85917                  \n",
       "Dim.14 0.6215863186  2.82539236       85.68457                  \n",
       "Dim.15 0.6096204549  2.77100207       88.45557                  \n",
       "Dim.16 0.5972640853  2.71483675       91.17041                  \n",
       "Dim.17 0.4783653418  2.17438792       93.34479                  \n",
       "Dim.18 0.4652041236  2.11456420       95.45936                  \n",
       "Dim.19 0.4628728877  2.10396767       97.56332                  \n",
       "Dim.20 0.3061815235  1.39173420       98.95506                  \n",
       "Dim.21 0.2291355725  1.04152533       99.99658                  \n",
       "Dim.22 0.0007514474  0.00341567      100.00000                  "
      ]
     },
     "metadata": {},
     "output_type": "display_data"
    }
   ],
   "source": [
    "## Import libraries\n",
    "library(FactoMineR)\n",
    "library(factoextra)\n",
    "\n",
    "## PCA\n",
    "res.famd <- FAMD(df \n",
    "                 sup.var = 19, \n",
    "                 graph = FALSE, \n",
    "                 ncp=25)\n",
    "\n",
    "## Inspect principal components\n",
    "get_eigenvalue(res.famd)"
   ]
  },
  {
   "cell_type": "markdown",
   "metadata": {
    "kernel": "SoS"
   },
   "source": [
    "## 3.2 `PCAmixdata`"
   ]
  },
  {
   "cell_type": "code",
   "execution_count": 10,
   "metadata": {
    "kernel": "R"
   },
   "outputs": [
    {
     "data": {
      "text/html": [
       "<table>\n",
       "<caption>A matrix: 22 × 3 of type dbl</caption>\n",
       "<thead>\n",
       "\t<tr><th></th><th scope=col>Eigenvalue</th><th scope=col>Proportion</th><th scope=col>Cumulative</th></tr>\n",
       "</thead>\n",
       "<tbody>\n",
       "\t<tr><th scope=row>dim 1</th><td>4.5098513842</td><td>20.49932447</td><td> 20.49932</td></tr>\n",
       "\t<tr><th scope=row>dim 2</th><td>2.8024012638</td><td>12.73818756</td><td> 33.23751</td></tr>\n",
       "\t<tr><th scope=row>dim 3</th><td>1.8247464408</td><td> 8.29430200</td><td> 41.53181</td></tr>\n",
       "\t<tr><th scope=row>dim 4</th><td>1.1490819680</td><td> 5.22309985</td><td> 46.75491</td></tr>\n",
       "\t<tr><th scope=row>dim 5</th><td>1.0495900326</td><td> 4.77086378</td><td> 51.52578</td></tr>\n",
       "\t<tr><th scope=row>dim 6</th><td>1.0144020899</td><td> 4.61091859</td><td> 56.13670</td></tr>\n",
       "\t<tr><th scope=row>dim 7</th><td>0.9993340111</td><td> 4.54242732</td><td> 60.67912</td></tr>\n",
       "\t<tr><th scope=row>dim 8</th><td>0.9842737776</td><td> 4.47397172</td><td> 65.15310</td></tr>\n",
       "\t<tr><th scope=row>dim 9</th><td>0.9039827483</td><td> 4.10901249</td><td> 69.26211</td></tr>\n",
       "\t<tr><th scope=row>dim 10</th><td>0.8465510646</td><td> 3.84795938</td><td> 73.11007</td></tr>\n",
       "\t<tr><th scope=row>dim 11</th><td>0.7634513562</td><td> 3.47023344</td><td> 76.58030</td></tr>\n",
       "\t<tr><th scope=row>dim 12</th><td>0.7069736613</td><td> 3.21351664</td><td> 79.79382</td></tr>\n",
       "\t<tr><th scope=row>dim 13</th><td>0.6743784465</td><td> 3.06535658</td><td> 82.85917</td></tr>\n",
       "\t<tr><th scope=row>dim 14</th><td>0.6215863186</td><td> 2.82539236</td><td> 85.68457</td></tr>\n",
       "\t<tr><th scope=row>dim 15</th><td>0.6096204549</td><td> 2.77100207</td><td> 88.45557</td></tr>\n",
       "\t<tr><th scope=row>dim 16</th><td>0.5972640853</td><td> 2.71483675</td><td> 91.17041</td></tr>\n",
       "\t<tr><th scope=row>dim 17</th><td>0.4783653418</td><td> 2.17438792</td><td> 93.34479</td></tr>\n",
       "\t<tr><th scope=row>dim 18</th><td>0.4652041236</td><td> 2.11456420</td><td> 95.45936</td></tr>\n",
       "\t<tr><th scope=row>dim 19</th><td>0.4628728877</td><td> 2.10396767</td><td> 97.56332</td></tr>\n",
       "\t<tr><th scope=row>dim 20</th><td>0.3061815235</td><td> 1.39173420</td><td> 98.95506</td></tr>\n",
       "\t<tr><th scope=row>dim 21</th><td>0.2291355725</td><td> 1.04152533</td><td> 99.99658</td></tr>\n",
       "\t<tr><th scope=row>dim 22</th><td>0.0007514474</td><td> 0.00341567</td><td>100.00000</td></tr>\n",
       "</tbody>\n",
       "</table>\n"
      ],
      "text/latex": [
       "A matrix: 22 × 3 of type dbl\n",
       "\\begin{tabular}{r|lll}\n",
       "  & Eigenvalue & Proportion & Cumulative\\\\\n",
       "\\hline\n",
       "\tdim 1 & 4.5098513842 & 20.49932447 &  20.49932\\\\\n",
       "\tdim 2 & 2.8024012638 & 12.73818756 &  33.23751\\\\\n",
       "\tdim 3 & 1.8247464408 &  8.29430200 &  41.53181\\\\\n",
       "\tdim 4 & 1.1490819680 &  5.22309985 &  46.75491\\\\\n",
       "\tdim 5 & 1.0495900326 &  4.77086378 &  51.52578\\\\\n",
       "\tdim 6 & 1.0144020899 &  4.61091859 &  56.13670\\\\\n",
       "\tdim 7 & 0.9993340111 &  4.54242732 &  60.67912\\\\\n",
       "\tdim 8 & 0.9842737776 &  4.47397172 &  65.15310\\\\\n",
       "\tdim 9 & 0.9039827483 &  4.10901249 &  69.26211\\\\\n",
       "\tdim 10 & 0.8465510646 &  3.84795938 &  73.11007\\\\\n",
       "\tdim 11 & 0.7634513562 &  3.47023344 &  76.58030\\\\\n",
       "\tdim 12 & 0.7069736613 &  3.21351664 &  79.79382\\\\\n",
       "\tdim 13 & 0.6743784465 &  3.06535658 &  82.85917\\\\\n",
       "\tdim 14 & 0.6215863186 &  2.82539236 &  85.68457\\\\\n",
       "\tdim 15 & 0.6096204549 &  2.77100207 &  88.45557\\\\\n",
       "\tdim 16 & 0.5972640853 &  2.71483675 &  91.17041\\\\\n",
       "\tdim 17 & 0.4783653418 &  2.17438792 &  93.34479\\\\\n",
       "\tdim 18 & 0.4652041236 &  2.11456420 &  95.45936\\\\\n",
       "\tdim 19 & 0.4628728877 &  2.10396767 &  97.56332\\\\\n",
       "\tdim 20 & 0.3061815235 &  1.39173420 &  98.95506\\\\\n",
       "\tdim 21 & 0.2291355725 &  1.04152533 &  99.99658\\\\\n",
       "\tdim 22 & 0.0007514474 &  0.00341567 & 100.00000\\\\\n",
       "\\end{tabular}\n"
      ],
      "text/markdown": [
       "\n",
       "A matrix: 22 × 3 of type dbl\n",
       "\n",
       "| <!--/--> | Eigenvalue | Proportion | Cumulative |\n",
       "|---|---|---|---|\n",
       "| dim 1 | 4.5098513842 | 20.49932447 |  20.49932 |\n",
       "| dim 2 | 2.8024012638 | 12.73818756 |  33.23751 |\n",
       "| dim 3 | 1.8247464408 |  8.29430200 |  41.53181 |\n",
       "| dim 4 | 1.1490819680 |  5.22309985 |  46.75491 |\n",
       "| dim 5 | 1.0495900326 |  4.77086378 |  51.52578 |\n",
       "| dim 6 | 1.0144020899 |  4.61091859 |  56.13670 |\n",
       "| dim 7 | 0.9993340111 |  4.54242732 |  60.67912 |\n",
       "| dim 8 | 0.9842737776 |  4.47397172 |  65.15310 |\n",
       "| dim 9 | 0.9039827483 |  4.10901249 |  69.26211 |\n",
       "| dim 10 | 0.8465510646 |  3.84795938 |  73.11007 |\n",
       "| dim 11 | 0.7634513562 |  3.47023344 |  76.58030 |\n",
       "| dim 12 | 0.7069736613 |  3.21351664 |  79.79382 |\n",
       "| dim 13 | 0.6743784465 |  3.06535658 |  82.85917 |\n",
       "| dim 14 | 0.6215863186 |  2.82539236 |  85.68457 |\n",
       "| dim 15 | 0.6096204549 |  2.77100207 |  88.45557 |\n",
       "| dim 16 | 0.5972640853 |  2.71483675 |  91.17041 |\n",
       "| dim 17 | 0.4783653418 |  2.17438792 |  93.34479 |\n",
       "| dim 18 | 0.4652041236 |  2.11456420 |  95.45936 |\n",
       "| dim 19 | 0.4628728877 |  2.10396767 |  97.56332 |\n",
       "| dim 20 | 0.3061815235 |  1.39173420 |  98.95506 |\n",
       "| dim 21 | 0.2291355725 |  1.04152533 |  99.99658 |\n",
       "| dim 22 | 0.0007514474 |  0.00341567 | 100.00000 |\n",
       "\n"
      ],
      "text/plain": [
       "       Eigenvalue   Proportion  Cumulative\n",
       "dim 1  4.5098513842 20.49932447  20.49932 \n",
       "dim 2  2.8024012638 12.73818756  33.23751 \n",
       "dim 3  1.8247464408  8.29430200  41.53181 \n",
       "dim 4  1.1490819680  5.22309985  46.75491 \n",
       "dim 5  1.0495900326  4.77086378  51.52578 \n",
       "dim 6  1.0144020899  4.61091859  56.13670 \n",
       "dim 7  0.9993340111  4.54242732  60.67912 \n",
       "dim 8  0.9842737776  4.47397172  65.15310 \n",
       "dim 9  0.9039827483  4.10901249  69.26211 \n",
       "dim 10 0.8465510646  3.84795938  73.11007 \n",
       "dim 11 0.7634513562  3.47023344  76.58030 \n",
       "dim 12 0.7069736613  3.21351664  79.79382 \n",
       "dim 13 0.6743784465  3.06535658  82.85917 \n",
       "dim 14 0.6215863186  2.82539236  85.68457 \n",
       "dim 15 0.6096204549  2.77100207  88.45557 \n",
       "dim 16 0.5972640853  2.71483675  91.17041 \n",
       "dim 17 0.4783653418  2.17438792  93.34479 \n",
       "dim 18 0.4652041236  2.11456420  95.45936 \n",
       "dim 19 0.4628728877  2.10396767  97.56332 \n",
       "dim 20 0.3061815235  1.39173420  98.95506 \n",
       "dim 21 0.2291355725  1.04152533  99.99658 \n",
       "dim 22 0.0007514474  0.00341567 100.00000 "
      ]
     },
     "metadata": {},
     "output_type": "display_data"
    }
   ],
   "source": [
    "library(PCAmixdata)\n",
    "\n",
    "## Split quantitative and qualitative variables\n",
    "split <- splitmix(df)\n",
    "\n",
    "## PCA\n",
    "res.pcamix <- PCAmix(X.quanti=split$X.quanti,  \n",
    "                     X.quali=split$X.quali, \n",
    "                     rename.level=TRUE, \n",
    "                     graph=FALSE, \n",
    "                     ndim=25)\n",
    "\n",
    "## Inspect principal components\n",
    "res.pcamix$eig"
   ]
  },
  {
   "cell_type": "markdown",
   "metadata": {
    "kernel": "SoS"
   },
   "source": [
    "We see that the results from `FactoMineR` and `PCAmixdata` are identical.\n",
    "\n",
    "A little background: an **eigenvalue > 1** indicates that the principal component (PCs) accounts for **more** variance than accounted by one of the original variables in **standardized** data (**N.B. This holds true only when the data are standardized.**). This is commonly used as a cutoff point for which PCs are retained. \n",
    "\n",
    "Therefore, interestingly, only the **first four** PCs account for more variance than each of the original variables, and together they account for only 46.7% of the total variance in the data set. This suggests that patterns between the variables are likely non-linear and complex."
   ]
  },
  {
   "cell_type": "markdown",
   "metadata": {
    "kernel": "SoS"
   },
   "source": [
    "## 3.3 `prince`"
   ]
  },
  {
   "cell_type": "markdown",
   "metadata": {
    "kernel": "SoS"
   },
   "source": [
    "Unlike the two packages above, `prince` is implemented in Python."
   ]
  },
  {
   "cell_type": "code",
   "execution_count": 12,
   "metadata": {
    "kernel": "Python3"
   },
   "outputs": [
    {
     "data": {
      "text/plain": [
       "[0.5374654125558428,\n",
       " 0.08801867828903982,\n",
       " 0.0572851244368975,\n",
       " 0.03937333023240256,\n",
       " 0.03127877295810106,\n",
       " 0.027912251575853336,\n",
       " 0.024703045349880923,\n",
       " 0.020807301704142356,\n",
       " 0.018937230974685852,\n",
       " 0.01800539646894815,\n",
       " 0.01656022774266522,\n",
       " 0.015976757070266686,\n",
       " 0.014945093457876379,\n",
       " 0.013999456118270703,\n",
       " 0.013763376399511574,\n",
       " 0.013589916692549978,\n",
       " 0.012208295034160313,\n",
       " 0.011979368941411956,\n",
       " 0.011339889947465936,\n",
       " 0.007002655988383335,\n",
       " 0.0048478677362699864,\n",
       " 5.485296596457979e-07,\n",
       " 1.795713232509243e-09,\n",
       " 5.3660658752776136e-33,\n",
       " 5.3660658752776136e-33]"
      ]
     },
     "execution_count": 12,
     "metadata": {},
     "output_type": "execute_result"
    }
   ],
   "source": [
    "## Import libraries\n",
    "import prince\n",
    "import fbpca\n",
    "\n",
    "## Instantiate FAMD object\n",
    "famd = prince.FAMD(\n",
    "     n_components=25,\n",
    "     n_iter=10,\n",
    "     copy=True,\n",
    "     check_input=True,\n",
    "     engine='auto',   ## Can be \"auto\", 'sklearn', 'fbpca'\n",
    "     random_state=42)\n",
    "\n",
    "## Fit FAMD object to data (excluding target varible)\n",
    "famd = famd.fit(df.drop('Churn', axis=1))\n",
    "\n",
    "## Inspect principal dimensions\n",
    "famd.explained_inertia_            "
   ]
  },
  {
   "cell_type": "markdown",
   "metadata": {},
   "source": [
    "Surprisingly, the results here differ greatly from the ones above. In my preliminary readings, I understand that \"explained inertia\" is synonymous with \"explained variance\", so this seems to be an unlikely cause of the discrepancy. I will keep digging, but as you will see in later parts of this series, FAMD performed using `prince` does reach nearly identical conclusions as the two R packages."
   ]
  }
 ],
 "metadata": {
  "kernelspec": {
   "display_name": "Python 3",
   "language": "python",
   "name": "python3"
  },
  "language_info": {
   "codemirror_mode": {
    "name": "ipython",
    "version": 3
   },
   "file_extension": ".py",
   "mimetype": "text/x-python",
   "name": "python",
   "nbconvert_exporter": "python",
   "pygments_lexer": "ipython3",
   "version": "3.6.8"
  },
  "sos": {
   "kernels": [
    [
     "Python3",
     "python3",
     "Python3",
     "#FFD91A"
    ],
    [
     "R",
     "ir",
     "R",
     "#DCDCDA"
    ]
   ],
   "version": "0.19.8"
  }
 },
 "nbformat": 4,
 "nbformat_minor": 2
}
